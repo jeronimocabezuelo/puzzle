{
  "nbformat": 4,
  "nbformat_minor": 0,
  "metadata": {
    "colab": {
      "name": "puzzle.ipynb",
      "provenance": [],
      "collapsed_sections": []
    },
    "kernelspec": {
      "name": "python3",
      "display_name": "Python 3"
    },
    "language_info": {
      "name": "python"
    }
  },
  "cells": [
    {
      "cell_type": "code",
      "metadata": {
        "id": "VO6O3ZHK04Sr"
      },
      "source": [
        "from copy import deepcopy"
      ],
      "execution_count": 1,
      "outputs": []
    },
    {
      "cell_type": "code",
      "metadata": {
        "colab": {
          "base_uri": "https://localhost:8080/"
        },
        "id": "oh6fdRqKilwr",
        "outputId": "fb9f8463-c627-49da-f3cf-4156981361a5"
      },
      "source": [
        "!git clone https://github.com/jeronimocabezuelo/puzzle"
      ],
      "execution_count": 2,
      "outputs": [
        {
          "output_type": "stream",
          "text": [
            "Cloning into 'puzzle'...\n",
            "remote: Enumerating objects: 24, done.\u001b[K\n",
            "remote: Counting objects: 100% (24/24), done.\u001b[K\n",
            "remote: Compressing objects: 100% (19/19), done.\u001b[K\n",
            "remote: Total 24 (delta 0), reused 8 (delta 0), pack-reused 0\n",
            "Unpacking objects: 100% (24/24), done.\n"
          ],
          "name": "stdout"
        }
      ]
    },
    {
      "cell_type": "markdown",
      "metadata": {
        "id": "tpU1FhL2W3lN"
      },
      "source": [
        "#Puzzle\n",
        "![Image1](https://raw.githubusercontent.com/jeronimocabezuelo/puzzle/main/src/image1.jpg)\n",
        "![Image2](https://raw.githubusercontent.com/jeronimocabezuelo/puzzle/main/src/image2.jpg)\n",
        "![Image3](https://raw.githubusercontent.com/jeronimocabezuelo/puzzle/main/src/image3.jpg)"
      ]
    },
    {
      "cell_type": "markdown",
      "metadata": {
        "id": "cH3ZjbDAbOsg"
      },
      "source": [
        "###Piece Class\n",
        "The first class that we are going to define is the part class. In it we will model how a piece of the puzzle works."
      ]
    },
    {
      "cell_type": "code",
      "metadata": {
        "id": "1WAzo_HjW3IQ"
      },
      "source": [
        "class Piece:\n",
        "    def __init__(self,left,up,right,down):\n",
        "        self.left = left\n",
        "        self.up = up\n",
        "        self.right = right\n",
        "        self.down = down\n",
        "    def __repr__(self):\n",
        "         return \"Piece()\"\n",
        "    def __str__(self):\n",
        "         return str(self.left)+\" \"+str(self.up)+\" \"+str(self.right)+\" \"+str(self.down)\n",
        "    def rotate(self,i):\n",
        "        if i<0:\n",
        "            raise Exception(\"Sorry, no numbers below zero.\")\n",
        "        if type(i) != int:\n",
        "            raise Exception(\"Sorry, integer.\")\n",
        "        if i == 0:\n",
        "            return\n",
        "        else:\n",
        "            aux = self.left\n",
        "            self.left = self.down\n",
        "            self.down = self.right\n",
        "            self.right = self.up\n",
        "            self.up = aux\n",
        "            self.rotate(i-1)\n",
        "    def isCorner(self):\n",
        "        numberOfEdge = 0\n",
        "        if self.left == 0:\n",
        "            numberOfEdge += 1\n",
        "        if self.right == 0:\n",
        "            numberOfEdge += 1\n",
        "        if self.up == 0:\n",
        "            numberOfEdge += 1\n",
        "        if self.down == 0:\n",
        "            numberOfEdge += 1\n",
        "        return numberOfEdge == 2\n",
        "          "
      ],
      "execution_count": 3,
      "outputs": []
    },
    {
      "cell_type": "markdown",
      "metadata": {
        "id": "-lkn_0h0oRoP"
      },
      "source": [
        "Example of use"
      ]
    },
    {
      "cell_type": "code",
      "metadata": {
        "id": "khIrZ5MKIlE5",
        "colab": {
          "base_uri": "https://localhost:8080/",
          "height": 52
        },
        "outputId": "ef665846-1e56-46a9-e3e9-8bbc967f4161"
      },
      "source": [
        "piece = Piece(0,0,1,2)\n",
        "print(piece)\n",
        "piece.rotate(4)\n",
        "str(piece)"
      ],
      "execution_count": 4,
      "outputs": [
        {
          "output_type": "stream",
          "text": [
            "0 0 1 2\n"
          ],
          "name": "stdout"
        },
        {
          "output_type": "execute_result",
          "data": {
            "application/vnd.google.colaboratory.intrinsic+json": {
              "type": "string"
            },
            "text/plain": [
              "'0 0 1 2'"
            ]
          },
          "metadata": {
            "tags": []
          },
          "execution_count": 4
        }
      ]
    },
    {
      "cell_type": "markdown",
      "metadata": {
        "id": "2a2YKM47hRtu"
      },
      "source": [
        "###Puzzle Class\n",
        "The second class that we are going to create is the one that manages a puzzle."
      ]
    },
    {
      "cell_type": "code",
      "metadata": {
        "id": "uYsU94LUhREk"
      },
      "source": [
        "class Puzzle:\n",
        "    def __init__(self, path):\n",
        "        self.pieces = []\n",
        "        with open(path) as f:\n",
        "            line = f.readline()\n",
        "            self.row = int(line[0])\n",
        "            self.column = int(line[2])\n",
        "            for i in range(self.row*self.column):\n",
        "                line = f.readline()\n",
        "                piece = Piece(int(line[0]),int(line[2]),int(line[4]),int(line[6]))\n",
        "                self.pieces.append(piece)\n",
        "            self.puzzlePositionPieces = [[0 for x in range(self.row)] for y in range(self.column)] \n",
        "    def __str__(self):\n",
        "        text = str(self.row)+\" \"+str(self.column)\n",
        "        for piece in self.pieces:\n",
        "            text += \"\\n\"+str(piece)\n",
        "        return text\n",
        "    def print(self):\n",
        "        text = '\\n'.join([''.join(['{:4}'.format(item) for item in row]) \n",
        "      for row in self.puzzlePositionPieces])\n",
        "        print(text)\n",
        "        return text\n",
        "    def isComplete(self):\n",
        "        if not self.isCorrect():\n",
        "            return False\n",
        "        for row in range(self.row):\n",
        "            for column in range(self.column):\n",
        "                if self.puzzlePositionPieces[row][column] == 0:\n",
        "                    return False\n",
        "        return True\n",
        "    def isCorrectPiece(self,piece,row,column,debug=False):\n",
        "        if column == 0:\n",
        "            if piece.left != 0:\n",
        "                if debug:\n",
        "                    print(\"In the first column in the row \",row,\"is bad.\")\n",
        "                return False\n",
        "        else :\n",
        "            if self.puzzlePositionPieces[row][column-1] != 0:\n",
        "                j = self.puzzlePositionPieces[row][column-1]\n",
        "                if self.pieces[j-1].right != piece.left:\n",
        "                    if debug:\n",
        "                        print(\"In the  column\", column, \"in the row \",row,\"is bad for left.\")\n",
        "                    return False\n",
        "        if column == self.column-1:\n",
        "            if piece.right != 0:\n",
        "                if debug:\n",
        "                    print(\"In the last column in the row\",row,\" is bad.\")\n",
        "                return False\n",
        "        else :\n",
        "            if self.puzzlePositionPieces[row][column+1] != 0:\n",
        "                j = self.puzzlePositionPieces[row][column+1]\n",
        "                if self.pieces[j-1].left != piece.right:\n",
        "                    if debug:\n",
        "                        print(\"In the  column\", column, \"in the row \",row,\"is bad for right.\")\n",
        "                    return False\n",
        "        if row == 0:\n",
        "            if piece.up != 0:\n",
        "                if debug:\n",
        "                    print(\"In the column\", column, \"in the first row is bad.\")\n",
        "                return False\n",
        "        else :\n",
        "              if self.puzzlePositionPieces[row-1][column] != 0:\n",
        "                j = self.puzzlePositionPieces[row-1][column]\n",
        "                if self.pieces[j-1].down != piece.up:\n",
        "                    if debug:\n",
        "                        print(\"In the  column\", column, \"in the row \",row,\"is bad for up.\")\n",
        "                    return False\n",
        "        if row == self.row-1:\n",
        "            if piece.down != 0:\n",
        "                if debug:\n",
        "                    print(\"In the column\", column, \"in the last row is bad.\")\n",
        "                return False\n",
        "        else :\n",
        "            if self.puzzlePositionPieces[row+1][column] != 0:\n",
        "                j = self.puzzlePositionPieces[row+1][column]\n",
        "                if self.pieces[j-1].up != piece.down:\n",
        "                    if debug:\n",
        "                        print(\"In the  column\", column, \"in the row \",row,\"is bad for down.\")\n",
        "                    return False\n",
        "        return True\n",
        "    def isCorrect(self):\n",
        "        for row in range(self.row):\n",
        "            for column in range(self.column):\n",
        "                if self.puzzlePositionPieces[row][column] != 0:\n",
        "                    i = self.puzzlePositionPieces[row][column]\n",
        "                    if not self.isCorrectPiece(self.pieces[i-1],row,column):\n",
        "                        return False\n",
        "        return True\n",
        "    def setPiece(self,pieceID,row,column,debug=False):\n",
        "        if self.isCorrectPiece(self.pieces[pieceID],row,column,debug=debug):\n",
        "            self.puzzlePositionPieces[row][column] = pieceID+1\n",
        "            return True\n",
        "        return False\n",
        "    def isPieceUsed(self,pieceID):\n",
        "        for row in range(self.row):\n",
        "            for column in range(self.column):\n",
        "                if self.puzzlePositionPieces[row][column] == pieceID+1:\n",
        "                    return True\n",
        "        return False"
      ],
      "execution_count": 5,
      "outputs": []
    },
    {
      "cell_type": "markdown",
      "metadata": {
        "id": "NvJ0fJjcpLnF"
      },
      "source": [
        "Example of use"
      ]
    },
    {
      "cell_type": "code",
      "metadata": {
        "colab": {
          "base_uri": "https://localhost:8080/"
        },
        "id": "xhrcFOluev9i",
        "outputId": "d97d87b6-babe-4ce0-eed8-86a364288754"
      },
      "source": [
        "puzzle = Puzzle(\"/content/puzzle/example/example1.txt\") \n",
        "print(puzzle)\n",
        "puzzle.print();"
      ],
      "execution_count": 6,
      "outputs": [
        {
          "output_type": "stream",
          "text": [
            "4 4\n",
            "2 5 4 0\n",
            "2 1 4 2\n",
            "0 1 1 0\n",
            "4 4 0 3\n",
            "0 0 4 3\n",
            "0 0 1 1\n",
            "1 4 0 0\n",
            "4 4 3 5\n",
            "5 5 2 4\n",
            "1 1 0 5\n",
            "4 1 0 4\n",
            "1 0 2 4\n",
            "3 5 1 2\n",
            "1 4 2 0\n",
            "0 1 5 2\n",
            "1 5 0 4\n",
            "   0   0   0   0\n",
            "   0   0   0   0\n",
            "   0   0   0   0\n",
            "   0   0   0   0\n"
          ],
          "name": "stdout"
        }
      ]
    },
    {
      "cell_type": "markdown",
      "metadata": {
        "id": "hnvLtMAOou6r"
      },
      "source": [
        "###Node Class\n",
        "To solve the puzzle we will follow the same process that we would do in reality, first we will make the edges and then we will complete the interior. To solve the orientation problem, that is, the four solutions that are rotations, we will choose a first corner that we will put in the top left.From there we will go around the edge in a clockwise direction. And then we will do the interior starting from the top left, from left to right and from top to bottom.\n",
        "\n",
        "To do this we create a Node class that will help us build the tree of possibilities."
      ]
    },
    {
      "cell_type": "code",
      "metadata": {
        "id": "x1X44PzasEW7"
      },
      "source": [
        "class Node:\n",
        "    def __init__(self,puzzle):\n",
        "        self.puzzle = deepcopy(puzzle)\n",
        "        self.parent = None\n",
        "    def childs(self):\n",
        "        #the first corner top left:\n",
        "        if self.puzzle.puzzlePositionPieces[0][0] == 0:\n",
        "            child = Node(self.puzzle)\n",
        "            child.parent = self\n",
        "            for i in range(self.puzzle.row*self.puzzle.column):\n",
        "                if child.puzzle.pieces[i].isCorner():\n",
        "                    while not child.puzzle.setPiece(i,0,0):\n",
        "                        child.puzzle.pieces[i].rotate(1)\n",
        "                    break\n",
        "            return [child]\n",
        "        #the top border\n",
        "        for column in range(1,self.puzzle.column):\n",
        "            if self.puzzle.puzzlePositionPieces[0][column]==0:\n",
        "                childrens = []\n",
        "                for pieceID in range(self.puzzle.row*self.puzzle.column):\n",
        "                    if not self.puzzle.isPieceUsed(pieceID):\n",
        "                        for r in range(4):\n",
        "                            child = Node(self.puzzle)\n",
        "                            child.parent = self\n",
        "                            child.puzzle.pieces[pieceID].rotate(r)\n",
        "                            if child.puzzle.setPiece(pieceID,0,column):\n",
        "                                childrens.append(child)\n",
        "                return childrens\n",
        "        #the right border\n",
        "        for row in range(1,self.puzzle.row):\n",
        "            if self.puzzle.puzzlePositionPieces[row][self.puzzle.column-1]==0:\n",
        "                childrens = []\n",
        "                for pieceID in range(self.puzzle.row*self.puzzle.column):\n",
        "                     if not self.puzzle.isPieceUsed(pieceID):\n",
        "                        for r in range(4):\n",
        "                            child = Node(self.puzzle)\n",
        "                            child.parent = self\n",
        "                            child.puzzle.pieces[pieceID].rotate(r)\n",
        "                            if child.puzzle.setPiece(pieceID,row,self.puzzle.column-1):\n",
        "                                childrens.append(child)\n",
        "                return childrens\n",
        "        #the bottom border\n",
        "        for column in reversed(range(self.puzzle.row-1)):\n",
        "            if self.puzzle.puzzlePositionPieces[self.puzzle.row-1][column]==0:\n",
        "                childrens = []\n",
        "                for pieceID in range(self.puzzle.row*self.puzzle.column):\n",
        "                    if not self.puzzle.isPieceUsed(pieceID):\n",
        "                        for r in range(4):\n",
        "                            child = Node(self.puzzle)\n",
        "                            child.parent = self\n",
        "                            child.puzzle.pieces[pieceID].rotate(r)\n",
        "                            if child.puzzle.setPiece(pieceID,self.puzzle.row-1,column):\n",
        "                                childrens.append(child)\n",
        "                return childrens\n",
        "        #the left border\n",
        "        for row in reversed(range(1,self.puzzle.column-1)):\n",
        "            if self.puzzle.puzzlePositionPieces[row][0]==0:\n",
        "                childrens = []\n",
        "                for pieceID in range(self.puzzle.row*self.puzzle.column):\n",
        "                    if not self.puzzle.isPieceUsed(pieceID):\n",
        "                        for r in range(4):\n",
        "                            child = Node(self.puzzle)\n",
        "                            child.parent = self\n",
        "                            child.puzzle.pieces[pieceID].rotate(r)\n",
        "                            if child.puzzle.setPiece(pieceID,row,0):\n",
        "                                childrens.append(child)\n",
        "                return childrens\n",
        "        #Now now we complete the interior from left to right and top to bottom\n",
        "        for row in range(1,self.puzzle.row-1):\n",
        "            for column in range(1,self.puzzle.column-1):\n",
        "                if self.puzzle.puzzlePositionPieces[row][column]==0:\n",
        "                    childrens = []\n",
        "                    for pieceID in range(self.puzzle.row*self.puzzle.column):\n",
        "                        if not self.puzzle.isPieceUsed(pieceID):\n",
        "                            for r in range(4):\n",
        "                                child = Node(self.puzzle)\n",
        "                                child.parent = self\n",
        "                                child.puzzle.pieces[pieceID].rotate(r)\n",
        "                                if child.puzzle.setPiece(pieceID,row,column):\n",
        "                                    childrens.append(child)\n",
        "                    return childrens\n",
        "        print(\"Ya deberia estar completo\")\n",
        "        return None\n"
      ],
      "execution_count": 7,
      "outputs": []
    },
    {
      "cell_type": "markdown",
      "metadata": {
        "id": "cAZ4Zbhvocdf"
      },
      "source": [
        "Example of use"
      ]
    },
    {
      "cell_type": "code",
      "metadata": {
        "colab": {
          "base_uri": "https://localhost:8080/"
        },
        "id": "NGkR1UhHocOJ",
        "outputId": "4d67b3c1-7a6e-407f-bfd9-211aa6c8b14f"
      },
      "source": [
        "raiz = Node(Puzzle(\"/content/puzzle/example/example1.txt\"))\n",
        "raiz.childs()[0].childs()[1].childs()[0].childs()[0].childs()[1].childs()[1].childs()[0].puzzle.print();"
      ],
      "execution_count": 8,
      "outputs": [
        {
          "output_type": "stream",
          "text": [
            "   3  10  16   7\n",
            "   0   0   0  11\n",
            "   0   0   0   4\n",
            "   0   0   0   5\n"
          ],
          "name": "stdout"
        }
      ]
    },
    {
      "cell_type": "markdown",
      "metadata": {
        "id": "qk0mUH-CgEKe"
      },
      "source": [
        "###Solution\n",
        "The following function will solve the problem."
      ]
    },
    {
      "cell_type": "code",
      "metadata": {
        "id": "W6Mf0voKgANg"
      },
      "source": [
        "def solve(puzzle):\n",
        "    #We create an array of solutions that we will add when we find them.\n",
        "    solutions = []\n",
        "    #We create an stack that we will use to add the child nodes and remove the nodes that we visit.\n",
        "    stack = []\n",
        "    #We create the first node from the puzzle and add it to the stack.\n",
        "    stack.append(Node(puzzle))\n",
        "    #As long as there are elements on the stack, pop an element, \n",
        "    #if it is a solution, we add it to the solutions, \n",
        "    #if not, we calculate the children and append them to the stack. \n",
        "    while len(stack)!=0:\n",
        "        node = stack.pop()\n",
        "        if node.puzzle.isComplete():\n",
        "            solutions.append(node)\n",
        "        else:\n",
        "            stack += node.childs()\n",
        "    return solutions "
      ],
      "execution_count": 9,
      "outputs": []
    },
    {
      "cell_type": "markdown",
      "metadata": {
        "id": "98Kz-z2XowEb"
      },
      "source": [
        "Example of use"
      ]
    },
    {
      "cell_type": "code",
      "metadata": {
        "colab": {
          "base_uri": "https://localhost:8080/"
        },
        "id": "FuZaXqpuov2N",
        "outputId": "9548bfb6-c300-4d32-cedf-93faf5c32c92"
      },
      "source": [
        "puzzle = Puzzle(\"/content/puzzle/example/example1.txt\")\n",
        "solve(puzzle)[0].puzzle.print();"
      ],
      "execution_count": 10,
      "outputs": [
        {
          "output_type": "stream",
          "text": [
            "   3  12  15   6\n",
            "  14   8  13  10\n",
            "   1   9   2  16\n",
            "   5   4  11   7\n"
          ],
          "name": "stdout"
        }
      ]
    },
    {
      "cell_type": "markdown",
      "metadata": {
        "id": "We88qvq2kdo1"
      },
      "source": [
        "Finally, we define a function that takes the path of a text file  with the puzzle and writes a text file with the solutions."
      ]
    },
    {
      "cell_type": "code",
      "metadata": {
        "id": "EmpteOv4kc8Z"
      },
      "source": [
        "def solvePuzzle(path):\n",
        "    puzzle = Puzzle(path)\n",
        "    solutions = solve(puzzle)\n",
        "    newPath = path[:-4]+\"_solutions.txt\"\n",
        "    with open(newPath,\"w\") as f:\n",
        "        for solution in solutions:\n",
        "            f.write(solution.puzzle.print())\n",
        "            f.write(\"\\n\\n\\n\")\n",
        "            print()"
      ],
      "execution_count": 11,
      "outputs": []
    },
    {
      "cell_type": "code",
      "metadata": {
        "colab": {
          "base_uri": "https://localhost:8080/"
        },
        "id": "mXzwTbhtliap",
        "outputId": "2f625f61-3529-4fd8-8af7-1cb15b26430e"
      },
      "source": [
        "solvePuzzle(\"/content/puzzle/example/example1.txt\")"
      ],
      "execution_count": 12,
      "outputs": [
        {
          "output_type": "stream",
          "text": [
            "   3  12  15   6\n",
            "  14   8  13  10\n",
            "   1   9   2  16\n",
            "   5   4  11   7\n",
            "\n",
            "   3  10  16   7\n",
            "  15  13   2  11\n",
            "  12   8   9   4\n",
            "   6  14   1   5\n",
            "\n"
          ],
          "name": "stdout"
        }
      ]
    }
  ]
}